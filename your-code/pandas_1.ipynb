{
 "cells": [
  {
   "cell_type": "markdown",
   "metadata": {},
   "source": [
    "# Introduction to Pandas Lab\n",
    "\n",
    "Complete the following set of exercises to solidify your knowledge of Pandas fundamentals."
   ]
  },
  {
   "cell_type": "markdown",
   "metadata": {},
   "source": [
    "### 1. Import Numpy and Pandas and alias them to `np` and `pd` respectively."
   ]
  },
  {
   "cell_type": "code",
   "execution_count": 1,
   "metadata": {},
   "outputs": [],
   "source": [
    "import pandas as pd\n",
    "import numpy as np"
   ]
  },
  {
   "cell_type": "markdown",
   "metadata": {},
   "source": [
    "### 2. Create a Pandas Series containing the elements of the list below."
   ]
  },
  {
   "cell_type": "code",
   "execution_count": 2,
   "metadata": {},
   "outputs": [],
   "source": [
    "lst = [5.7, 75.2, 74.4, 84.0, 66.5, 66.3, 55.8, 75.7, 29.1, 43.7]"
   ]
  },
  {
   "cell_type": "code",
   "execution_count": 12,
   "metadata": {},
   "outputs": [
    {
     "name": "stdout",
     "output_type": "stream",
     "text": [
      "0     5.7\n",
      "1    75.2\n",
      "2    74.4\n",
      "3    84.0\n",
      "4    66.5\n",
      "5    66.3\n",
      "6    55.8\n",
      "7    75.7\n",
      "8    29.1\n",
      "9    43.7\n",
      "dtype: float64\n"
     ]
    }
   ],
   "source": [
    "series = pd.Series(lst)\n",
    "print(series)"
   ]
  },
  {
   "cell_type": "markdown",
   "metadata": {},
   "source": [
    "### 3. Use indexing to return the third value in the Series above.\n",
    "\n",
    "*Hint: Remember that indexing begins at 0.*"
   ]
  },
  {
   "cell_type": "code",
   "execution_count": 14,
   "metadata": {},
   "outputs": [
    {
     "name": "stdout",
     "output_type": "stream",
     "text": [
      "74.4\n"
     ]
    }
   ],
   "source": [
    "# your code here\n",
    "third_num = series[2]\n",
    "\n",
    "print(third_num)"
   ]
  },
  {
   "cell_type": "markdown",
   "metadata": {},
   "source": [
    "### 4. Create a Pandas DataFrame from the list of lists below. Each sublist should be represented as a row."
   ]
  },
  {
   "cell_type": "code",
   "execution_count": 16,
   "metadata": {},
   "outputs": [],
   "source": [
    "b = [[53.1, 95.0, 67.5, 35.0, 78.4],\n",
    "     [61.3, 40.8, 30.8, 37.8, 87.6],\n",
    "     [20.6, 73.2, 44.2, 14.6, 91.8],\n",
    "     [57.4, 0.1, 96.1, 4.2, 69.5],\n",
    "     [83.6, 20.5, 85.4, 22.8, 35.9],\n",
    "     [49.0, 69.0, 0.1, 31.8, 89.1],\n",
    "     [23.3, 40.7, 95.0, 83.8, 26.9],\n",
    "     [27.6, 26.4, 53.8, 88.8, 68.5],\n",
    "     [96.6, 96.4, 53.4, 72.4, 50.1],\n",
    "     [73.7, 39.0, 43.2, 81.6, 34.7]]"
   ]
  },
  {
   "cell_type": "code",
   "execution_count": 18,
   "metadata": {},
   "outputs": [
    {
     "data": {
      "text/html": [
       "<div>\n",
       "<style scoped>\n",
       "    .dataframe tbody tr th:only-of-type {\n",
       "        vertical-align: middle;\n",
       "    }\n",
       "\n",
       "    .dataframe tbody tr th {\n",
       "        vertical-align: top;\n",
       "    }\n",
       "\n",
       "    .dataframe thead th {\n",
       "        text-align: right;\n",
       "    }\n",
       "</style>\n",
       "<table border=\"1\" class=\"dataframe\">\n",
       "  <thead>\n",
       "    <tr style=\"text-align: right;\">\n",
       "      <th></th>\n",
       "      <th>0</th>\n",
       "      <th>1</th>\n",
       "      <th>2</th>\n",
       "      <th>3</th>\n",
       "      <th>4</th>\n",
       "    </tr>\n",
       "  </thead>\n",
       "  <tbody>\n",
       "    <tr>\n",
       "      <th>0</th>\n",
       "      <td>53.1</td>\n",
       "      <td>95.0</td>\n",
       "      <td>67.5</td>\n",
       "      <td>35.0</td>\n",
       "      <td>78.4</td>\n",
       "    </tr>\n",
       "    <tr>\n",
       "      <th>1</th>\n",
       "      <td>61.3</td>\n",
       "      <td>40.8</td>\n",
       "      <td>30.8</td>\n",
       "      <td>37.8</td>\n",
       "      <td>87.6</td>\n",
       "    </tr>\n",
       "    <tr>\n",
       "      <th>2</th>\n",
       "      <td>20.6</td>\n",
       "      <td>73.2</td>\n",
       "      <td>44.2</td>\n",
       "      <td>14.6</td>\n",
       "      <td>91.8</td>\n",
       "    </tr>\n",
       "    <tr>\n",
       "      <th>3</th>\n",
       "      <td>57.4</td>\n",
       "      <td>0.1</td>\n",
       "      <td>96.1</td>\n",
       "      <td>4.2</td>\n",
       "      <td>69.5</td>\n",
       "    </tr>\n",
       "    <tr>\n",
       "      <th>4</th>\n",
       "      <td>83.6</td>\n",
       "      <td>20.5</td>\n",
       "      <td>85.4</td>\n",
       "      <td>22.8</td>\n",
       "      <td>35.9</td>\n",
       "    </tr>\n",
       "    <tr>\n",
       "      <th>5</th>\n",
       "      <td>49.0</td>\n",
       "      <td>69.0</td>\n",
       "      <td>0.1</td>\n",
       "      <td>31.8</td>\n",
       "      <td>89.1</td>\n",
       "    </tr>\n",
       "    <tr>\n",
       "      <th>6</th>\n",
       "      <td>23.3</td>\n",
       "      <td>40.7</td>\n",
       "      <td>95.0</td>\n",
       "      <td>83.8</td>\n",
       "      <td>26.9</td>\n",
       "    </tr>\n",
       "    <tr>\n",
       "      <th>7</th>\n",
       "      <td>27.6</td>\n",
       "      <td>26.4</td>\n",
       "      <td>53.8</td>\n",
       "      <td>88.8</td>\n",
       "      <td>68.5</td>\n",
       "    </tr>\n",
       "    <tr>\n",
       "      <th>8</th>\n",
       "      <td>96.6</td>\n",
       "      <td>96.4</td>\n",
       "      <td>53.4</td>\n",
       "      <td>72.4</td>\n",
       "      <td>50.1</td>\n",
       "    </tr>\n",
       "    <tr>\n",
       "      <th>9</th>\n",
       "      <td>73.7</td>\n",
       "      <td>39.0</td>\n",
       "      <td>43.2</td>\n",
       "      <td>81.6</td>\n",
       "      <td>34.7</td>\n",
       "    </tr>\n",
       "  </tbody>\n",
       "</table>\n",
       "</div>"
      ],
      "text/plain": [
       "      0     1     2     3     4\n",
       "0  53.1  95.0  67.5  35.0  78.4\n",
       "1  61.3  40.8  30.8  37.8  87.6\n",
       "2  20.6  73.2  44.2  14.6  91.8\n",
       "3  57.4   0.1  96.1   4.2  69.5\n",
       "4  83.6  20.5  85.4  22.8  35.9\n",
       "5  49.0  69.0   0.1  31.8  89.1\n",
       "6  23.3  40.7  95.0  83.8  26.9\n",
       "7  27.6  26.4  53.8  88.8  68.5\n",
       "8  96.6  96.4  53.4  72.4  50.1\n",
       "9  73.7  39.0  43.2  81.6  34.7"
      ]
     },
     "execution_count": 18,
     "metadata": {},
     "output_type": "execute_result"
    }
   ],
   "source": [
    "# your code here\n",
    "df = pd.DataFrame(b)\n",
    "\n",
    "df\n"
   ]
  },
  {
   "cell_type": "markdown",
   "metadata": {},
   "source": [
    "### 5. Rename the data frame columns based on the names in the list below."
   ]
  },
  {
   "cell_type": "code",
   "execution_count": 19,
   "metadata": {},
   "outputs": [],
   "source": [
    "b = [[53.1, 95.0, 67.5, 35.0, 78.4],\n",
    "     [61.3, 40.8, 30.8, 37.8, 87.6],\n",
    "     [20.6, 73.2, 44.2, 14.6, 91.8],\n",
    "     [57.4, 0.1, 96.1, 4.2, 69.5],\n",
    "     [83.6, 20.5, 85.4, 22.8, 35.9],\n",
    "     [49.0, 69.0, 0.1, 31.8, 89.1],\n",
    "     [23.3, 40.7, 95.0, 83.8, 26.9],\n",
    "     [27.6, 26.4, 53.8, 88.8, 68.5],\n",
    "     [96.6, 96.4, 53.4, 72.4, 50.1],\n",
    "     [73.7, 39.0, 43.2, 81.6, 34.7]]"
   ]
  },
  {
   "cell_type": "code",
   "execution_count": 32,
   "metadata": {},
   "outputs": [
    {
     "name": "stdout",
     "output_type": "stream",
     "text": [
      "   Column 1  Column 2  Column 3  Column 4  Column 5\n",
      "0      53.1      95.0      67.5      35.0      78.4\n",
      "1      61.3      40.8      30.8      37.8      87.6\n",
      "2      20.6      73.2      44.2      14.6      91.8\n",
      "3      57.4       0.1      96.1       4.2      69.5\n",
      "4      83.6      20.5      85.4      22.8      35.9\n",
      "5      49.0      69.0       0.1      31.8      89.1\n",
      "6      23.3      40.7      95.0      83.8      26.9\n",
      "7      27.6      26.4      53.8      88.8      68.5\n",
      "8      96.6      96.4      53.4      72.4      50.1\n",
      "9      73.7      39.0      43.2      81.6      34.7\n"
     ]
    }
   ],
   "source": [
    "df_from_list = pd.DataFrame(b)\n",
    "new_column_names = [\"Column 1\", \"Column 2\", \"Column 3\", \"Column 4\", \"Column 5\"]\n",
    "df_from_list.columns = new_column_names\n",
    "print(df_from_list)\n",
    "\n"
   ]
  },
  {
   "cell_type": "markdown",
   "metadata": {},
   "source": [
    "### 6. Create a subset of this data frame that contains only the Score 1, 3, and 5 columns."
   ]
  },
  {
   "cell_type": "code",
   "execution_count": 33,
   "metadata": {},
   "outputs": [
    {
     "name": "stdout",
     "output_type": "stream",
     "text": [
      "   Column a  Column c  Column e\n",
      "0      53.1      67.5      78.4\n",
      "1      61.3      30.8      87.6\n",
      "2      20.6      44.2      91.8\n",
      "3      57.4      96.1      69.5\n",
      "4      83.6      85.4      35.9\n",
      "5      49.0       0.1      89.1\n",
      "6      23.3      95.0      26.9\n",
      "7      27.6      53.8      68.5\n",
      "8      96.6      53.4      50.1\n",
      "9      73.7      43.2      34.7\n"
     ]
    }
   ],
   "source": [
    "data = {\n",
    "    'Column a': [53.1, 61.3, 20.6, 57.4, 83.6, 49.0, 23.3, 27.6, 96.6, 73.7],\n",
    "    'Column b': [95.0, 40.8, 73.2, 0.1, 20.5, 69.0, 40.7, 26.4, 96.4, 39.0],\n",
    "    'Column c': [67.5, 30.8, 44.2, 96.1, 85.4, 0.1, 95.0, 53.8, 53.4, 43.2],\n",
    "    'Column d': [35.0, 37.8, 14.6, 4.2, 22.8, 31.8, 83.8, 88.8, 72.4, 81.6],\n",
    "    'Column e': [78.4, 87.6, 91.8, 69.5, 35.9, 89.1, 26.9, 68.5, 50.1, 34.7]\n",
    "}\n",
    "\n",
    "df = pd.DataFrame(data)\n",
    "\n",
    "subset = df[['Column a', 'Column c', 'Column e']]\n",
    "\n",
    "print(subset)\n"
   ]
  },
  {
   "cell_type": "markdown",
   "metadata": {},
   "source": [
    "### 7. From the original data frame, calculate the average Score_3 value."
   ]
  },
  {
   "cell_type": "code",
   "execution_count": 34,
   "metadata": {},
   "outputs": [
    {
     "name": "stdout",
     "output_type": "stream",
     "text": [
      "The average Score_3 value is: 56.95000000000001\n"
     ]
    }
   ],
   "source": [
    "data = {\n",
    "    'Column a': [53.1, 61.3, 20.6, 57.4, 83.6, 49.0, 23.3, 27.6, 96.6, 73.7],\n",
    "    'Column b': [95.0, 40.8, 73.2, 0.1, 20.5, 69.0, 40.7, 26.4, 96.4, 39.0],\n",
    "    'Column c': [67.5, 30.8, 44.2, 96.1, 85.4, 0.1, 95.0, 53.8, 53.4, 43.2],\n",
    "    'Column d': [35.0, 37.8, 14.6, 4.2, 22.8, 31.8, 83.8, 88.8, 72.4, 81.6],\n",
    "    'Column e': [78.4, 87.6, 91.8, 69.5, 35.9, 89.1, 26.9, 68.5, 50.1, 34.7]\n",
    "}\n",
    "\n",
    "df = pd.DataFrame(data)\n",
    "\n",
    "average_score_3 = df['Column c'].mean()\n",
    "\n",
    "print(f\"The average Score_3 value is: {average_score_3}\")\n"
   ]
  },
  {
   "cell_type": "markdown",
   "metadata": {},
   "source": [
    "### 8. From the original data frame, calculate the maximum Score_4 value."
   ]
  },
  {
   "cell_type": "code",
   "execution_count": 38,
   "metadata": {},
   "outputs": [
    {
     "name": "stdout",
     "output_type": "stream",
     "text": [
      "The maximum Score_4 value is: 88.8\n"
     ]
    }
   ],
   "source": [
    "data = {\n",
    "'Column a': [53.1, 61.3, 20.6, 57.4, 83.6, 49.0, 23.3, 27.6, 96.6, 73.7],\n",
    "'Column b': [95.0, 40.8, 73.2, 0.1, 20.5, 69.0, 40.7, 26.4, 96.4, 39.0],\n",
    "'Column c': [67.5, 30.8, 44.2, 96.1, 85.4, 0.1, 95.0, 53.8, 53.4, 43.2],\n",
    "'Column d': [35.0, 37.8, 14.6, 4.2, 22.8, 31.8, 83.8, 88.8, 72.4, 81.6],\n",
    "'Column e': [78.4, 87.6, 91.8, 69.5, 35.9, 89.1, 26.9, 68.5, 50.1, 34.7]\n",
    "}\n",
    "\n",
    "df = pd.DataFrame(data)\n",
    "\n",
    "max_score_4 = df['Column d'].max()\n",
    "\n",
    "print(f\"The maximum Score_4 value is: {max_score_4}\")\n"
   ]
  },
  {
   "cell_type": "markdown",
   "metadata": {},
   "source": [
    "### 9. From the original data frame, calculate the median Score 2 value."
   ]
  },
  {
   "cell_type": "code",
   "execution_count": 37,
   "metadata": {},
   "outputs": [
    {
     "name": "stdout",
     "output_type": "stream",
     "text": [
      "The median Score_2 value is: 40.75\n"
     ]
    }
   ],
   "source": [
    "data = {\n",
    "'Column a': [53.1, 61.3, 20.6, 57.4, 83.6, 49.0, 23.3, 27.6, 96.6, 73.7],\n",
    "'Column b': [95.0, 40.8, 73.2, 0.1, 20.5, 69.0, 40.7, 26.4, 96.4, 39.0],\n",
    "'Column c': [67.5, 30.8, 44.2, 96.1, 85.4, 0.1, 95.0, 53.8, 53.4, 43.2],\n",
    "'Column d': [35.0, 37.8, 14.6, 4.2, 22.8, 31.8, 83.8, 88.8, 72.4, 81.6],\n",
    "'Column e': [78.4, 87.6, 91.8, 69.5, 35.9, 89.1, 26.9, 68.5, 50.1, 34.7]\n",
    "}\n",
    "\n",
    "df = pd.DataFrame(data)\n",
    "\n",
    "median_score_2 = df['Column b'].median()\n",
    "\n",
    "print(f\"The median Score_2 value is: {median_score_2}\")\n"
   ]
  },
  {
   "cell_type": "markdown",
   "metadata": {},
   "source": [
    "### 10. Create a Pandas DataFrame from the dictionary of product orders below."
   ]
  },
  {
   "cell_type": "code",
   "execution_count": 2,
   "metadata": {},
   "outputs": [],
   "source": [
    "orders = {'Description': ['LUNCH BAG APPLE DESIGN',\n",
    "  'SET OF 60 VINTAGE LEAF CAKE CASES ',\n",
    "  'RIBBON REEL STRIPES DESIGN ',\n",
    "  'WORLD WAR 2 GLIDERS ASSTD DESIGNS',\n",
    "  'PLAYING CARDS JUBILEE UNION JACK',\n",
    "  'POPCORN HOLDER',\n",
    "  'BOX OF VINTAGE ALPHABET BLOCKS',\n",
    "  'PARTY BUNTING',\n",
    "  'JAZZ HEARTS ADDRESS BOOK',\n",
    "  'SET OF 4 SANTA PLACE SETTINGS'],\n",
    " 'Quantity': [1, 24, 1, 2880, 2, 7, 1, 4, 10, 48],\n",
    " 'UnitPrice': [1.65, 0.55, 1.65, 0.18, 1.25, 0.85, 11.95, 4.95, 0.19, 1.25],\n",
    " 'Revenue': [1.65, 13.2, 1.65, 518.4, 2.5, 5.95, 11.95, 19.8, 1.9, 60.0]}"
   ]
  },
  {
   "cell_type": "code",
   "execution_count": 39,
   "metadata": {},
   "outputs": [
    {
     "name": "stdout",
     "output_type": "stream",
     "text": [
      "                         Description  Quantity  UnitPrice  Revenue\n",
      "0             LUNCH BAG APPLE DESIGN         1       1.65     1.65\n",
      "1  SET OF 60 VINTAGE LEAF CAKE CASES        24       0.55    13.20\n",
      "2         RIBBON REEL STRIPES DESIGN         1       1.65     1.65\n",
      "3  WORLD WAR 2 GLIDERS ASSTD DESIGNS      2880       0.18   518.40\n",
      "4   PLAYING CARDS JUBILEE UNION JACK         2       1.25     2.50\n",
      "5                     POPCORN HOLDER         7       0.85     5.95\n",
      "6     BOX OF VINTAGE ALPHABET BLOCKS         1      11.95    11.95\n",
      "7                      PARTY BUNTING         4       4.95    19.80\n",
      "8           JAZZ HEARTS ADDRESS BOOK        10       0.19     1.90\n",
      "9      SET OF 4 SANTA PLACE SETTINGS        48       1.25    60.00\n"
     ]
    }
   ],
   "source": [
    "orders = {\n",
    "    'Description': [\n",
    "        'LUNCH BAG APPLE DESIGN',\n",
    "        'SET OF 60 VINTAGE LEAF CAKE CASES',\n",
    "        'RIBBON REEL STRIPES DESIGN',\n",
    "        'WORLD WAR 2 GLIDERS ASSTD DESIGNS',\n",
    "        'PLAYING CARDS JUBILEE UNION JACK',\n",
    "        'POPCORN HOLDER',\n",
    "        'BOX OF VINTAGE ALPHABET BLOCKS',\n",
    "        'PARTY BUNTING',\n",
    "        'JAZZ HEARTS ADDRESS BOOK',\n",
    "        'SET OF 4 SANTA PLACE SETTINGS'\n",
    "    ],\n",
    "    'Quantity': [1, 24, 1, 2880, 2, 7, 1, 4, 10, 48],\n",
    "    'UnitPrice': [1.65, 0.55, 1.65, 0.18, 1.25, 0.85, 11.95, 4.95, 0.19, 1.25],\n",
    "    'Revenue': [1.65, 13.2, 1.65, 518.4, 2.5, 5.95, 11.95, 19.8, 1.9, 60.0]\n",
    "}\n",
    "\n",
    "orders_df = pd.DataFrame(orders)\n",
    "\n",
    "print(orders_df)\n",
    "\n"
   ]
  },
  {
   "cell_type": "markdown",
   "metadata": {},
   "source": [
    "### 11. Calculate the total quantity ordered and revenue generated from these orders."
   ]
  },
  {
   "cell_type": "code",
   "execution_count": 2,
   "metadata": {},
   "outputs": [
    {
     "name": "stdout",
     "output_type": "stream",
     "text": [
      "Total Quantity Ordered: 2978\n",
      "Total Revenue Generated: $637.00\n"
     ]
    }
   ],
   "source": [
    "import pandas as pd\n",
    "\n",
    "orders = {\n",
    "    'Description': [\n",
    "        'LUNCH BAG APPLE DESIGN',\n",
    "        'SET OF 60 VINTAGE LEAF CAKE CASES',\n",
    "        'RIBBON REEL STRIPES DESIGN',\n",
    "        'WORLD WAR 2 GLIDERS ASSTD DESIGNS',\n",
    "        'PLAYING CARDS JUBILEE UNION JACK',\n",
    "        'POPCORN HOLDER',\n",
    "        'BOX OF VINTAGE ALPHABET BLOCKS',\n",
    "        'PARTY BUNTING',\n",
    "        'JAZZ HEARTS ADDRESS BOOK',\n",
    "        'SET OF 4 SANTA PLACE SETTINGS'\n",
    "    ],\n",
    "    'Quantity': [1, 24, 1, 2880, 2, 7, 1, 4, 10, 48],\n",
    "    'UnitPrice': [1.65, 0.55, 1.65, 0.18, 1.25, 0.85, 11.95, 4.95, 0.19, 1.25],\n",
    "    'Revenue': [1.65, 13.2, 1.65, 518.4, 2.5, 5.95, 11.95, 19.8, 1.9, 60.0]\n",
    "}\n",
    "\n",
    "orders_df = pd.DataFrame(orders)\n",
    "\n",
    "total_quantity = orders_df['Quantity'].sum()\n",
    "\n",
    "total_revenue = orders_df['Revenue'].sum()\n",
    "\n",
    "print(f\"Total Quantity Ordered: {total_quantity}\")\n",
    "print(f\"Total Revenue Generated: ${total_revenue:.2f}\")\n"
   ]
  },
  {
   "cell_type": "markdown",
   "metadata": {},
   "source": [
    "### 12. Obtain the prices of the most expensive and least expensive items ordered and print the difference."
   ]
  },
  {
   "cell_type": "code",
   "execution_count": 3,
   "metadata": {},
   "outputs": [
    {
     "name": "stdout",
     "output_type": "stream",
     "text": [
      "Most Expensive Item Price: $11.95\n",
      "Least Expensive Item Price: $0.18\n",
      "Difference: $11.77\n"
     ]
    }
   ],
   "source": [
    "import pandas as pd\n",
    "\n",
    "orders_df = pd.DataFrame(orders)\n",
    "\n",
    "most_expensive = orders_df['UnitPrice'].max()\n",
    "least_expensive = orders_df['UnitPrice'].min()\n",
    "\n",
    "price_difference = most_expensive - least_expensive\n",
    "\n",
    "print(f\"Most Expensive Item Price: ${most_expensive:.2f}\")\n",
    "print(f\"Least Expensive Item Price: ${least_expensive:.2f}\")\n",
    "print(f\"Difference: ${price_difference:.2f}\")\n"
   ]
  },
  {
   "cell_type": "markdown",
   "metadata": {},
   "source": [
    "## Let's load another dataset for more exercisesº"
   ]
  },
  {
   "cell_type": "code",
   "execution_count": 4,
   "metadata": {},
   "outputs": [],
   "source": [
    "# Run this code:\n",
    "admissions = pd.read_csv('../Admission_Predict.csv')"
   ]
  },
  {
   "cell_type": "markdown",
   "metadata": {},
   "source": [
    "Let's evaluate the dataset by looking at the `head` function."
   ]
  },
  {
   "cell_type": "code",
   "execution_count": 5,
   "metadata": {},
   "outputs": [
    {
     "name": "stdout",
     "output_type": "stream",
     "text": [
      "   Serial No.  GRE Score  TOEFL Score  University Rating  SOP  LOR   CGPA  \\\n",
      "0           1        337          118                  4  4.5   4.5  9.65   \n",
      "1           2        316          104                  3  3.0   3.5  8.00   \n",
      "2           3        322          110                  3  3.5   2.5  8.67   \n",
      "3           4        314          103                  2  2.0   3.0  8.21   \n",
      "4           5        330          115                  5  4.5   3.0  9.34   \n",
      "\n",
      "   Research  Chance of Admit   \n",
      "0         1              0.92  \n",
      "1         1              0.72  \n",
      "2         1              0.80  \n",
      "3         0              0.65  \n",
      "4         1              0.90  \n"
     ]
    }
   ],
   "source": [
    "import pandas as pd \n",
    "\n",
    "# Load the dataset \n",
    "admissions = pd.read_csv('../Admission_Predict.csv')\n",
    "\n",
    "print(admissions.head())"
   ]
  },
  {
   "cell_type": "markdown",
   "metadata": {},
   "source": [
    "### 1 - Before beginning to work with this dataset and evaluating graduate admissions data, we will verify that there is no missing data in the dataset. Do this in the cell below."
   ]
  },
  {
   "cell_type": "code",
   "execution_count": 6,
   "metadata": {},
   "outputs": [
    {
     "name": "stdout",
     "output_type": "stream",
     "text": [
      "Serial No.           0\n",
      "GRE Score            0\n",
      "TOEFL Score          0\n",
      "University Rating    0\n",
      "SOP                  0\n",
      "LOR                  0\n",
      "CGPA                 0\n",
      "Research             0\n",
      "Chance of Admit      0\n",
      "dtype: int64\n"
     ]
    }
   ],
   "source": [
    "# your code here \n",
    "import pandas as pd\n",
    "\n",
    "admissions = pd.read_csv('../Admission_Predict.csv')\n",
    "\n",
    "missing_data = admissions.isnull().sum()\n",
    "\n",
    "print(missing_data)\n"
   ]
  },
  {
   "cell_type": "markdown",
   "metadata": {},
   "source": [
    "###  2 -  Interestingly, there is a column that uniquely identifies the applicants. This column is the serial number column. Instead of having our own index, we should make this column our index. Do this in the cell below. Keep the column in the dataframe in addition to making it an index."
   ]
  },
  {
   "cell_type": "code",
   "execution_count": 7,
   "metadata": {},
   "outputs": [
    {
     "name": "stdout",
     "output_type": "stream",
     "text": [
      "            Serial No.  GRE Score  TOEFL Score  University Rating  SOP  LOR   \\\n",
      "Serial No.                                                                     \n",
      "1                    1        337          118                  4  4.5   4.5   \n",
      "2                    2        316          104                  3  3.0   3.5   \n",
      "3                    3        322          110                  3  3.5   2.5   \n",
      "4                    4        314          103                  2  2.0   3.0   \n",
      "5                    5        330          115                  5  4.5   3.0   \n",
      "\n",
      "            CGPA  Research  Chance of Admit   \n",
      "Serial No.                                    \n",
      "1           9.65         1              0.92  \n",
      "2           8.00         1              0.72  \n",
      "3           8.67         1              0.80  \n",
      "4           8.21         0              0.65  \n",
      "5           9.34         1              0.90  \n"
     ]
    }
   ],
   "source": [
    "# your code here \n",
    "import pandas as pd\n",
    "\n",
    "admissions = pd.read_csv('../Admission_Predict.csv')\n",
    "\n",
    "admissions = admissions.set_index('Serial No.', drop=False)\n",
    "\n",
    "print(admissions.head())\n"
   ]
  },
  {
   "cell_type": "markdown",
   "metadata": {},
   "source": [
    "Turns out that `GRE Score` and `CGPA` also uniquely identify the data. Show this in the cell below."
   ]
  },
  {
   "cell_type": "markdown",
   "metadata": {},
   "source": [
    "### 3 - In this part of the lab, we would like to test complex conditions on the entire data set at once. Let's start by finding the number of rows where the CGPA is greater than 9 and the student has performed an investigation."
   ]
  },
  {
   "cell_type": "code",
   "execution_count": 12,
   "metadata": {
    "scrolled": true
   },
   "outputs": [
    {
     "name": "stdout",
     "output_type": "stream",
     "text": [
      "Number of duplicates based on 'GRE Score' and 'CGPA': 0\n",
      "Number of rows where CGPA > 9 and the student has performed an investigation: 101\n"
     ]
    }
   ],
   "source": [
    "import pandas as pd\n",
    "\n",
    "# Load the dataset\n",
    "admissions = pd.read_csv('../Admission_Predict.csv')\n",
    "\n",
    "admissions = admissions.set_index('Serial No.', drop=False)\n",
    "\n",
    "unique_identifier_check = admissions.duplicated(subset=['GRE Score', 'CGPA']).sum()\n",
    "print(f\"Number of duplicates based on 'GRE Score' and 'CGPA': {unique_identifier_check}\")\n",
    "\n",
    "rows_with_conditions = admissions[(admissions['CGPA'] > 9) & (admissions['Research'] == 1)]\n",
    "print(f\"Number of rows where CGPA > 9 and the student has performed an investigation: {len(rows_with_conditions)}\")\n"
   ]
  },
  {
   "cell_type": "markdown",
   "metadata": {},
   "source": [
    "### 4 - Now return all the rows where the CGPA is greater than 9 and the SOP score is less than 3.5. Find the mean chance of admit for these applicants."
   ]
  },
  {
   "cell_type": "code",
   "execution_count": 11,
   "metadata": {},
   "outputs": [
    {
     "name": "stdout",
     "output_type": "stream",
     "text": [
      "            Serial No.  GRE Score  TOEFL Score  University Rating  SOP  LOR   \\\n",
      "Serial No.                                                                     \n",
      "29                  29        338          118                  4  3.0   4.5   \n",
      "63                  63        327          114                  3  3.0   3.0   \n",
      "141                141        326          114                  3  3.0   3.0   \n",
      "218                218        324          111                  4  3.0   3.0   \n",
      "382                382        325          107                  3  3.0   3.5   \n",
      "\n",
      "            CGPA  Research  Chance of Admit   \n",
      "Serial No.                                    \n",
      "29          9.40         1              0.91  \n",
      "63          9.02         0              0.61  \n",
      "141         9.11         1              0.83  \n",
      "218         9.01         1              0.82  \n",
      "382         9.11         1              0.84  \n",
      "\n",
      "Mean Chance of Admit for applicants with CGPA > 9 and SOP < 3.5: 0.80\n"
     ]
    }
   ],
   "source": [
    "# your code here\n",
    "\n",
    "import pandas as pd\n",
    "\n",
    "admissions = pd.read_csv('../Admission_Predict.csv')\n",
    "\n",
    "admissions = admissions.set_index('Serial No.', drop=False)\n",
    "\n",
    "filtered_applicants = admissions[(admissions['CGPA'] > 9) & (admissions['SOP'] < 3.5)]\n",
    "\n",
    "mean_chance_of_admit = filtered_applicants['Chance of Admit '].mean()\n",
    "\n",
    "print(filtered_applicants)\n",
    "print(f\"\\nMean Chance of Admit for applicants with CGPA > 9 and SOP < 3.5: {mean_chance_of_admit:.2f}\")\n"
   ]
  },
  {
   "cell_type": "code",
   "execution_count": null,
   "metadata": {},
   "outputs": [],
   "source": []
  }
 ],
 "metadata": {
  "kernelspec": {
   "display_name": "Python 3 (ipykernel)",
   "language": "python",
   "name": "python3"
  },
  "language_info": {
   "codemirror_mode": {
    "name": "ipython",
    "version": 3
   },
   "file_extension": ".py",
   "mimetype": "text/x-python",
   "name": "python",
   "nbconvert_exporter": "python",
   "pygments_lexer": "ipython3",
   "version": "3.12.4"
  },
  "toc": {
   "base_numbering": "",
   "nav_menu": {},
   "number_sections": false,
   "sideBar": true,
   "skip_h1_title": false,
   "title_cell": "Table of Contents",
   "title_sidebar": "Contents",
   "toc_cell": false,
   "toc_position": {},
   "toc_section_display": true,
   "toc_window_display": true
  }
 },
 "nbformat": 4,
 "nbformat_minor": 2
}
