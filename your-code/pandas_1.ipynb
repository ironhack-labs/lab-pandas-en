{
 "cells": [
  {
   "cell_type": "markdown",
   "metadata": {},
   "source": [
    "# Introduction to Pandas Lab\n",
    "\n",
    "Complete the following set of exercises to solidify your knowledge of Pandas fundamentals."
   ]
  },
  {
   "cell_type": "markdown",
   "metadata": {},
   "source": [
    "### 1. Import Numpy and Pandas and alias them to `np` and `pd` respectively."
   ]
  },
  {
   "cell_type": "code",
   "execution_count": 3,
   "metadata": {},
   "outputs": [],
   "source": [
    "import pandas as pd\n",
    "import numpy as np"
   ]
  },
  {
   "cell_type": "markdown",
   "metadata": {},
   "source": [
    "### 2. Create a Pandas Series containing the elements of the list below."
   ]
  },
  {
   "cell_type": "code",
   "execution_count": 4,
   "metadata": {},
   "outputs": [],
   "source": [
    "lst = [5.7, 75.2, 74.4, 84.0, 66.5, 66.3, 55.8, 75.7, 29.1, 43.7]"
   ]
  },
  {
   "cell_type": "code",
   "execution_count": 5,
   "metadata": {},
   "outputs": [
    {
     "name": "stdout",
     "output_type": "stream",
     "text": [
      "0     5.7\n",
      "1    75.2\n",
      "2    74.4\n",
      "3    84.0\n",
      "4    66.5\n",
      "5    66.3\n",
      "6    55.8\n",
      "7    75.7\n",
      "8    29.1\n",
      "9    43.7\n",
      "dtype: float64\n"
     ]
    }
   ],
   "source": [
    "lst = [5.7, 75.2, 74.4, 84.0, 66.5, 66.3, 55.8, 75.7, 29.1, 43.7]\n",
    "series = pd.Series(lst)\n",
    "print(series)\n"
   ]
  },
  {
   "cell_type": "markdown",
   "metadata": {},
   "source": [
    "### 3. Use indexing to return the third value in the Series above.\n",
    "\n",
    "*Hint: Remember that indexing begins at 0.*"
   ]
  },
  {
   "cell_type": "code",
   "execution_count": 6,
   "metadata": {},
   "outputs": [
    {
     "data": {
      "text/plain": [
       "np.float64(74.4)"
      ]
     },
     "execution_count": 6,
     "metadata": {},
     "output_type": "execute_result"
    }
   ],
   "source": [
    "series [2]"
   ]
  },
  {
   "cell_type": "markdown",
   "metadata": {},
   "source": [
    "### 4. Create a Pandas DataFrame from the list of lists below. Each sublist should be represented as a row."
   ]
  },
  {
   "cell_type": "code",
   "execution_count": 7,
   "metadata": {},
   "outputs": [],
   "source": [
    "b = [[53.1, 95.0, 67.5, 35.0, 78.4],\n",
    "     [61.3, 40.8, 30.8, 37.8, 87.6],\n",
    "     [20.6, 73.2, 44.2, 14.6, 91.8],\n",
    "     [57.4, 0.1, 96.1, 4.2, 69.5],\n",
    "     [83.6, 20.5, 85.4, 22.8, 35.9],\n",
    "     [49.0, 69.0, 0.1, 31.8, 89.1],\n",
    "     [23.3, 40.7, 95.0, 83.8, 26.9],\n",
    "     [27.6, 26.4, 53.8, 88.8, 68.5],\n",
    "     [96.6, 96.4, 53.4, 72.4, 50.1],\n",
    "     [73.7, 39.0, 43.2, 81.6, 34.7]]"
   ]
  },
  {
   "cell_type": "code",
   "execution_count": 8,
   "metadata": {},
   "outputs": [
    {
     "name": "stdout",
     "output_type": "stream",
     "text": [
      "      0     1     2     3     4\n",
      "0  53.1  95.0  67.5  35.0  78.4\n",
      "1  61.3  40.8  30.8  37.8  87.6\n",
      "2  20.6  73.2  44.2  14.6  91.8\n",
      "3  57.4   0.1  96.1   4.2  69.5\n",
      "4  83.6  20.5  85.4  22.8  35.9\n",
      "5  49.0  69.0   0.1  31.8  89.1\n",
      "6  23.3  40.7  95.0  83.8  26.9\n",
      "7  27.6  26.4  53.8  88.8  68.5\n",
      "8  96.6  96.4  53.4  72.4  50.1\n",
      "9  73.7  39.0  43.2  81.6  34.7\n"
     ]
    }
   ],
   "source": [
    "df_from_list = pd.DataFrame(b)\n",
    "print(df_from_list)\n",
    "\n"
   ]
  },
  {
   "cell_type": "markdown",
   "metadata": {},
   "source": [
    "### 5. Rename the data frame columns based on the names in the list below."
   ]
  },
  {
   "cell_type": "code",
   "execution_count": 9,
   "metadata": {},
   "outputs": [
    {
     "name": "stderr",
     "output_type": "stream",
     "text": [
      "<>:5: SyntaxWarning: list indices must be integers or slices, not tuple; perhaps you missed a comma?\n",
      "<>:5: SyntaxWarning: list indices must be integers or slices, not tuple; perhaps you missed a comma?\n",
      "C:\\Users\\adete\\AppData\\Local\\Temp\\ipykernel_10096\\297608463.py:5: SyntaxWarning: list indices must be integers or slices, not tuple; perhaps you missed a comma?\n",
      "  [83.6, 20.5, 85.4, 22.8, 35.9]\n"
     ]
    },
    {
     "ename": "TypeError",
     "evalue": "list indices must be integers or slices, not tuple",
     "output_type": "error",
     "traceback": [
      "\u001b[1;31m---------------------------------------------------------------------------\u001b[0m",
      "\u001b[1;31mTypeError\u001b[0m                                 Traceback (most recent call last)",
      "Cell \u001b[1;32mIn[9], line 5\u001b[0m\n\u001b[0;32m      1\u001b[0m b \u001b[38;5;241m=\u001b[39m [[\u001b[38;5;241m53.1\u001b[39m, \u001b[38;5;241m95.0\u001b[39m, \u001b[38;5;241m67.5\u001b[39m, \u001b[38;5;241m35.0\u001b[39m, \u001b[38;5;241m78.4\u001b[39m],\n\u001b[0;32m      2\u001b[0m      [\u001b[38;5;241m61.3\u001b[39m, \u001b[38;5;241m40.8\u001b[39m, \u001b[38;5;241m30.8\u001b[39m, \u001b[38;5;241m37.8\u001b[39m, \u001b[38;5;241m87.6\u001b[39m],\n\u001b[0;32m      3\u001b[0m      [\u001b[38;5;241m20.6\u001b[39m, \u001b[38;5;241m73.2\u001b[39m, \u001b[38;5;241m44.2\u001b[39m, \u001b[38;5;241m14.6\u001b[39m, \u001b[38;5;241m91.8\u001b[39m],\n\u001b[0;32m      4\u001b[0m      [\u001b[38;5;241m57.4\u001b[39m, \u001b[38;5;241m0.1\u001b[39m, \u001b[38;5;241m96.1\u001b[39m, \u001b[38;5;241m4.2\u001b[39m, \u001b[38;5;241m69.5\u001b[39m],\n\u001b[1;32m----> 5\u001b[0m      \u001b[43m[\u001b[49m\u001b[38;5;241;43m83.6\u001b[39;49m\u001b[43m,\u001b[49m\u001b[43m \u001b[49m\u001b[38;5;241;43m20.5\u001b[39;49m\u001b[43m,\u001b[49m\u001b[43m \u001b[49m\u001b[38;5;241;43m85.4\u001b[39;49m\u001b[43m,\u001b[49m\u001b[43m \u001b[49m\u001b[38;5;241;43m22.8\u001b[39;49m\u001b[43m,\u001b[49m\u001b[43m \u001b[49m\u001b[38;5;241;43m35.9\u001b[39;49m\u001b[43m]\u001b[49m\n\u001b[0;32m      6\u001b[0m \u001b[43m     \u001b[49m\u001b[43m[\u001b[49m\u001b[38;5;241;43m49.0\u001b[39;49m\u001b[43m,\u001b[49m\u001b[43m \u001b[49m\u001b[38;5;241;43m69.0\u001b[39;49m\u001b[43m,\u001b[49m\u001b[43m \u001b[49m\u001b[38;5;241;43m0.1\u001b[39;49m\u001b[43m,\u001b[49m\u001b[43m \u001b[49m\u001b[38;5;241;43m31.8\u001b[39;49m\u001b[43m,\u001b[49m\u001b[43m \u001b[49m\u001b[38;5;241;43m89.1\u001b[39;49m\u001b[43m]\u001b[49m,\n\u001b[0;32m      7\u001b[0m      [\u001b[38;5;241m23.3\u001b[39m, \u001b[38;5;241m40.7\u001b[39m, \u001b[38;5;241m95.0\u001b[39m, \u001b[38;5;241m83.8\u001b[39m, \u001b[38;5;241m26.9\u001b[39m],\n\u001b[0;32m      8\u001b[0m      [\u001b[38;5;241m27.6\u001b[39m, \u001b[38;5;241m26.4\u001b[39m, \u001b[38;5;241m53.8\u001b[39m, \u001b[38;5;241m88.8\u001b[39m, \u001b[38;5;241m68.5\u001b[39m],\n\u001b[0;32m      9\u001b[0m      [\u001b[38;5;241m96.6\u001b[39m, \u001b[38;5;241m96.4\u001b[39m, \u001b[38;5;241m53.4\u001b[39m, \u001b[38;5;241m72.4\u001b[39m, \u001b[38;5;241m50.1\u001b[39m],\n\u001b[0;32m     10\u001b[0m      [\u001b[38;5;241m73.7\u001b[39m, \u001b[38;5;241m39.0\u001b[39m, \u001b[38;5;241m43.2\u001b[39m, \u001b[38;5;241m81.6\u001b[39m, \u001b[38;5;241m34.7\u001b[39m]]\n",
      "\u001b[1;31mTypeError\u001b[0m: list indices must be integers or slices, not tuple"
     ]
    }
   ],
   "source": [
    "b = [[53.1, 95.0, 67.5, 35.0, 78.4],\n",
    "     [61.3, 40.8, 30.8, 37.8, 87.6],\n",
    "     [20.6, 73.2, 44.2, 14.6, 91.8],\n",
    "     [57.4, 0.1, 96.1, 4.2, 69.5],\n",
    "     [83.6, 20.5, 85.4, 22.8, 35.9]\n",
    "     [49.0, 69.0, 0.1, 31.8, 89.1],\n",
    "     [23.3, 40.7, 95.0, 83.8, 26.9],\n",
    "     [27.6, 26.4, 53.8, 88.8, 68.5],\n",
    "     [96.6, 96.4, 53.4, 72.4, 50.1],\n",
    "     [73.7, 39.0, 43.2, 81.6, 34.7]]"
   ]
  },
  {
   "cell_type": "code",
   "execution_count": 37,
   "metadata": {},
   "outputs": [
    {
     "name": "stdout",
     "output_type": "stream",
     "text": [
      "   Score1  Score2  Score3  Score4  Score5\n",
      "0    53.1    95.0    67.5    35.0    78.4\n",
      "1    61.3    40.8    30.8    37.8    87.6\n",
      "2    20.6    73.2    44.2    14.6    91.8\n",
      "3    57.4     0.1    96.1     4.2    69.5\n",
      "4    83.6    20.5    85.4    22.8    35.9\n",
      "5    49.0    69.0     0.1    31.8    89.1\n",
      "6    23.3    40.7    95.0    83.8    26.9\n",
      "7    27.6    26.4    53.8    88.4    68.5\n",
      "8    96.6    96.4    53.4    72.4    50.1\n",
      "9    73.7    39.0    43.2    81.6    34.7\n"
     ]
    }
   ],
   "source": [
    "df_from_list = pd.DataFrame(b)\n",
    "new_column_names = [\"Score1\", \"Score2\", \"Score3\", \"Score4\", \"Score5\"]\n",
    "df_from_list.columns = new_column_names\n",
    "print(df_from_list)\n"
   ]
  },
  {
   "cell_type": "markdown",
   "metadata": {},
   "source": [
    "### 6. Create a subset of this data frame that contains only the Score 1, 3, and 5 columns."
   ]
  },
  {
   "cell_type": "code",
   "execution_count": 38,
   "metadata": {},
   "outputs": [
    {
     "name": "stdout",
     "output_type": "stream",
     "text": [
      "   Score1  Score3  Score5\n",
      "0    53.1    67.5    78.4\n",
      "1    61.3    30.8    87.6\n",
      "2    20.6    44.2    91.8\n",
      "3    57.4    96.1    69.5\n",
      "4    83.6    85.4    35.9\n",
      "5    49.0     0.1    89.1\n",
      "6    23.3    95.0    26.9\n",
      "7    27.6    53.8    68.5\n",
      "8    96.6    53.4    50.1\n",
      "9    73.7    43.2    34.7\n"
     ]
    }
   ],
   "source": [
    "# Selecting specific columns\n",
    "subset_df = df_from_list[['Score1', 'Score3', 'Score5']]\n",
    "print(subset_df)\n",
    "\n"
   ]
  },
  {
   "cell_type": "markdown",
   "metadata": {},
   "source": [
    "### 7. From the original data frame, calculate the average Score_3 value."
   ]
  },
  {
   "cell_type": "code",
   "execution_count": 42,
   "metadata": {},
   "outputs": [
    {
     "name": "stdout",
     "output_type": "stream",
     "text": [
      "56.95000000000001\n"
     ]
    }
   ],
   "source": [
    "average_score_3 = df_from_list['Score3'].mean()\n",
    "print(average_score_3)\n"
   ]
  },
  {
   "cell_type": "markdown",
   "metadata": {},
   "source": [
    "### 8. From the original data frame, calculate the maximum Score_4 value."
   ]
  },
  {
   "cell_type": "code",
   "execution_count": 44,
   "metadata": {},
   "outputs": [
    {
     "name": "stdout",
     "output_type": "stream",
     "text": [
      "96.1\n"
     ]
    }
   ],
   "source": [
    "max_score_4 = df_from_list['Score3'].max()\n",
    "print(max_score_4)"
   ]
  },
  {
   "cell_type": "markdown",
   "metadata": {},
   "source": [
    "### 9. From the original data frame, calculate the median Score 2 value."
   ]
  },
  {
   "cell_type": "code",
   "execution_count": 45,
   "metadata": {},
   "outputs": [
    {
     "name": "stdout",
     "output_type": "stream",
     "text": [
      "53.599999999999994\n"
     ]
    }
   ],
   "source": [
    "median_score_2 = df_from_list['Score3'].median()\n",
    "print(median_score_2)"
   ]
  },
  {
   "cell_type": "markdown",
   "metadata": {},
   "source": [
    "### 10. Create a Pandas DataFrame from the dictionary of product orders below."
   ]
  },
  {
   "cell_type": "code",
   "execution_count": 3,
   "metadata": {},
   "outputs": [
    {
     "data": {
      "text/html": [
       "<div>\n",
       "<style scoped>\n",
       "    .dataframe tbody tr th:only-of-type {\n",
       "        vertical-align: middle;\n",
       "    }\n",
       "\n",
       "    .dataframe tbody tr th {\n",
       "        vertical-align: top;\n",
       "    }\n",
       "\n",
       "    .dataframe thead th {\n",
       "        text-align: right;\n",
       "    }\n",
       "</style>\n",
       "<table border=\"1\" class=\"dataframe\">\n",
       "  <thead>\n",
       "    <tr style=\"text-align: right;\">\n",
       "      <th></th>\n",
       "      <th>Description</th>\n",
       "      <th>Quantity</th>\n",
       "      <th>UnitPrice</th>\n",
       "      <th>Revenue</th>\n",
       "    </tr>\n",
       "  </thead>\n",
       "  <tbody>\n",
       "    <tr>\n",
       "      <th>0</th>\n",
       "      <td>LUNCH BAG APPLE DESIGN</td>\n",
       "      <td>1</td>\n",
       "      <td>1.65</td>\n",
       "      <td>1.65</td>\n",
       "    </tr>\n",
       "    <tr>\n",
       "      <th>1</th>\n",
       "      <td>SET OF 60 VINTAGE LEAF CAKE CASES</td>\n",
       "      <td>24</td>\n",
       "      <td>0.55</td>\n",
       "      <td>13.20</td>\n",
       "    </tr>\n",
       "    <tr>\n",
       "      <th>2</th>\n",
       "      <td>RIBBON REEL STRIPES DESIGN</td>\n",
       "      <td>1</td>\n",
       "      <td>1.65</td>\n",
       "      <td>1.65</td>\n",
       "    </tr>\n",
       "    <tr>\n",
       "      <th>3</th>\n",
       "      <td>WORLD WAR 2 GLIDERS ASSTD DESIGNS</td>\n",
       "      <td>2880</td>\n",
       "      <td>0.18</td>\n",
       "      <td>518.40</td>\n",
       "    </tr>\n",
       "    <tr>\n",
       "      <th>4</th>\n",
       "      <td>PLAYING CARDS JUBILEE UNION JACK</td>\n",
       "      <td>2</td>\n",
       "      <td>1.25</td>\n",
       "      <td>2.50</td>\n",
       "    </tr>\n",
       "    <tr>\n",
       "      <th>5</th>\n",
       "      <td>POPCORN HOLDER</td>\n",
       "      <td>7</td>\n",
       "      <td>0.85</td>\n",
       "      <td>5.95</td>\n",
       "    </tr>\n",
       "    <tr>\n",
       "      <th>6</th>\n",
       "      <td>BOX OF VINTAGE ALPHABET BLOCKS</td>\n",
       "      <td>1</td>\n",
       "      <td>11.95</td>\n",
       "      <td>11.95</td>\n",
       "    </tr>\n",
       "    <tr>\n",
       "      <th>7</th>\n",
       "      <td>PARTY BUNTING</td>\n",
       "      <td>4</td>\n",
       "      <td>4.95</td>\n",
       "      <td>19.80</td>\n",
       "    </tr>\n",
       "    <tr>\n",
       "      <th>8</th>\n",
       "      <td>JAZZ HEARTS ADDRESS BOOK</td>\n",
       "      <td>10</td>\n",
       "      <td>0.19</td>\n",
       "      <td>1.90</td>\n",
       "    </tr>\n",
       "    <tr>\n",
       "      <th>9</th>\n",
       "      <td>SET OF 4 SANTA PLACE SETTINGS</td>\n",
       "      <td>48</td>\n",
       "      <td>1.25</td>\n",
       "      <td>60.00</td>\n",
       "    </tr>\n",
       "  </tbody>\n",
       "</table>\n",
       "</div>"
      ],
      "text/plain": [
       "                          Description  Quantity  UnitPrice  Revenue\n",
       "0              LUNCH BAG APPLE DESIGN         1       1.65     1.65\n",
       "1  SET OF 60 VINTAGE LEAF CAKE CASES         24       0.55    13.20\n",
       "2         RIBBON REEL STRIPES DESIGN          1       1.65     1.65\n",
       "3   WORLD WAR 2 GLIDERS ASSTD DESIGNS      2880       0.18   518.40\n",
       "4    PLAYING CARDS JUBILEE UNION JACK         2       1.25     2.50\n",
       "5                      POPCORN HOLDER         7       0.85     5.95\n",
       "6      BOX OF VINTAGE ALPHABET BLOCKS         1      11.95    11.95\n",
       "7                       PARTY BUNTING         4       4.95    19.80\n",
       "8            JAZZ HEARTS ADDRESS BOOK        10       0.19     1.90\n",
       "9       SET OF 4 SANTA PLACE SETTINGS        48       1.25    60.00"
      ]
     },
     "execution_count": 3,
     "metadata": {},
     "output_type": "execute_result"
    }
   ],
   "source": [
    "import pandas as pd\n",
    "orders = {'Description': ['LUNCH BAG APPLE DESIGN',\n",
    "  'SET OF 60 VINTAGE LEAF CAKE CASES ',\n",
    "  'RIBBON REEL STRIPES DESIGN ',\n",
    "  'WORLD WAR 2 GLIDERS ASSTD DESIGNS',\n",
    "  'PLAYING CARDS JUBILEE UNION JACK',\n",
    "  'POPCORN HOLDER',\n",
    "  'BOX OF VINTAGE ALPHABET BLOCKS',\n",
    "  'PARTY BUNTING',\n",
    "  'JAZZ HEARTS ADDRESS BOOK',\n",
    "  'SET OF 4 SANTA PLACE SETTINGS'],\n",
    " 'Quantity': [1, 24, 1, 2880, 2, 7, 1, 4, 10, 48],\n",
    " 'UnitPrice': [1.65, 0.55, 1.65, 0.18, 1.25, 0.85, 11.95, 4.95, 0.19, 1.25],\n",
    " 'Revenue': [1.65, 13.2, 1.65, 518.4, 2.5, 5.95, 11.95, 19.8, 1.9, 60.0]}\n",
    "df = pd.DataFrame(orders)\n",
    "df"
   ]
  },
  {
   "cell_type": "markdown",
   "metadata": {},
   "source": [
    "### 11. Calculate the total quantity ordered and revenue generated from these orders."
   ]
  },
  {
   "cell_type": "code",
   "execution_count": 27,
   "metadata": {},
   "outputs": [
    {
     "name": "stdout",
     "output_type": "stream",
     "text": [
      "Total Quantity Ordered: 2978\n",
      "Total Revenue Generated: 637.0\n"
     ]
    }
   ],
   "source": [
    "total_quantity = df_orders['Quantity'].sum()\n",
    "total_revenue = df_orders['Revenue'].sum()\n",
    "print(\"Total Quantity Ordered:\", total_quantity)\n",
    "print(\"Total Revenue Generated:\", total_revenue)\n"
   ]
  },
  {
   "cell_type": "markdown",
   "metadata": {},
   "source": [
    "### 12. Obtain the prices of the most expensive and least expensive items ordered and print the difference."
   ]
  },
  {
   "cell_type": "code",
   "execution_count": 43,
   "metadata": {},
   "outputs": [
    {
     "name": "stdout",
     "output_type": "stream",
     "text": [
      "Difference is: 11.77\n"
     ]
    }
   ],
   "source": [
    "df= pd.DataFrame(orders)\n",
    "max_price=df['UnitPrice'].max()\n",
    "min_price=df['UnitPrice'].min()\n",
    "difference = max_price - min_price\n",
    "print(\"Difference is:\", difference)"
   ]
  },
  {
   "cell_type": "markdown",
   "metadata": {},
   "source": [
    "## Let's load another dataset for more exercisesº"
   ]
  },
  {
   "cell_type": "code",
   "execution_count": 44,
   "metadata": {},
   "outputs": [],
   "source": [
    "# Run this code:\n",
    "admissions = pd.read_csv('../Admission_Predict.csv')"
   ]
  },
  {
   "cell_type": "markdown",
   "metadata": {},
   "source": [
    "Let's evaluate the dataset by looking at the `head` function."
   ]
  },
  {
   "cell_type": "code",
   "execution_count": 46,
   "metadata": {},
   "outputs": [
    {
     "data": {
      "text/html": [
       "<div>\n",
       "<style scoped>\n",
       "    .dataframe tbody tr th:only-of-type {\n",
       "        vertical-align: middle;\n",
       "    }\n",
       "\n",
       "    .dataframe tbody tr th {\n",
       "        vertical-align: top;\n",
       "    }\n",
       "\n",
       "    .dataframe thead th {\n",
       "        text-align: right;\n",
       "    }\n",
       "</style>\n",
       "<table border=\"1\" class=\"dataframe\">\n",
       "  <thead>\n",
       "    <tr style=\"text-align: right;\">\n",
       "      <th></th>\n",
       "      <th>Serial No.</th>\n",
       "      <th>GRE Score</th>\n",
       "      <th>TOEFL Score</th>\n",
       "      <th>University Rating</th>\n",
       "      <th>SOP</th>\n",
       "      <th>LOR</th>\n",
       "      <th>CGPA</th>\n",
       "      <th>Research</th>\n",
       "      <th>Chance of Admit</th>\n",
       "    </tr>\n",
       "  </thead>\n",
       "  <tbody>\n",
       "    <tr>\n",
       "      <th>0</th>\n",
       "      <td>1</td>\n",
       "      <td>337</td>\n",
       "      <td>118</td>\n",
       "      <td>4</td>\n",
       "      <td>4.5</td>\n",
       "      <td>4.5</td>\n",
       "      <td>9.65</td>\n",
       "      <td>1</td>\n",
       "      <td>0.92</td>\n",
       "    </tr>\n",
       "    <tr>\n",
       "      <th>1</th>\n",
       "      <td>2</td>\n",
       "      <td>316</td>\n",
       "      <td>104</td>\n",
       "      <td>3</td>\n",
       "      <td>3.0</td>\n",
       "      <td>3.5</td>\n",
       "      <td>8.00</td>\n",
       "      <td>1</td>\n",
       "      <td>0.72</td>\n",
       "    </tr>\n",
       "    <tr>\n",
       "      <th>2</th>\n",
       "      <td>3</td>\n",
       "      <td>322</td>\n",
       "      <td>110</td>\n",
       "      <td>3</td>\n",
       "      <td>3.5</td>\n",
       "      <td>2.5</td>\n",
       "      <td>8.67</td>\n",
       "      <td>1</td>\n",
       "      <td>0.80</td>\n",
       "    </tr>\n",
       "    <tr>\n",
       "      <th>3</th>\n",
       "      <td>4</td>\n",
       "      <td>314</td>\n",
       "      <td>103</td>\n",
       "      <td>2</td>\n",
       "      <td>2.0</td>\n",
       "      <td>3.0</td>\n",
       "      <td>8.21</td>\n",
       "      <td>0</td>\n",
       "      <td>0.65</td>\n",
       "    </tr>\n",
       "    <tr>\n",
       "      <th>4</th>\n",
       "      <td>5</td>\n",
       "      <td>330</td>\n",
       "      <td>115</td>\n",
       "      <td>5</td>\n",
       "      <td>4.5</td>\n",
       "      <td>3.0</td>\n",
       "      <td>9.34</td>\n",
       "      <td>1</td>\n",
       "      <td>0.90</td>\n",
       "    </tr>\n",
       "  </tbody>\n",
       "</table>\n",
       "</div>"
      ],
      "text/plain": [
       "   Serial No.  GRE Score  TOEFL Score  University Rating  SOP  LOR   CGPA  \\\n",
       "0           1        337          118                  4  4.5   4.5  9.65   \n",
       "1           2        316          104                  3  3.0   3.5  8.00   \n",
       "2           3        322          110                  3  3.5   2.5  8.67   \n",
       "3           4        314          103                  2  2.0   3.0  8.21   \n",
       "4           5        330          115                  5  4.5   3.0  9.34   \n",
       "\n",
       "   Research  Chance of Admit   \n",
       "0         1              0.92  \n",
       "1         1              0.72  \n",
       "2         1              0.80  \n",
       "3         0              0.65  \n",
       "4         1              0.90  "
      ]
     },
     "execution_count": 46,
     "metadata": {},
     "output_type": "execute_result"
    }
   ],
   "source": [
    "df_from_csv = pd.read_csv('../Admission_Predict.csv')\n",
    "df_from_csv.head()"
   ]
  },
  {
   "cell_type": "markdown",
   "metadata": {},
   "source": [
    "### 1 - Before beginning to work with this dataset and evaluating graduate admissions data, we will verify that there is no missing data in the dataset. Do this in the cell below."
   ]
  },
  {
   "cell_type": "code",
   "execution_count": 47,
   "metadata": {},
   "outputs": [
    {
     "name": "stdout",
     "output_type": "stream",
     "text": [
      "Serial No.           0\n",
      "GRE Score            0\n",
      "TOEFL Score          0\n",
      "University Rating    0\n",
      "SOP                  0\n",
      "LOR                  0\n",
      "CGPA                 0\n",
      "Research             0\n",
      "Chance of Admit      0\n",
      "dtype: int64\n"
     ]
    }
   ],
   "source": [
    "# Check for missing data usinf isnull and sum\n",
    "missing_data = df_from_csv.isnull().sum()\n",
    "print(missing_data)\n"
   ]
  },
  {
   "cell_type": "markdown",
   "metadata": {},
   "source": [
    "###  2 -  Interestingly, there is a column that uniquely identifies the applicants. This column is the serial number column. Instead of having our own index, we should make this column our index. Do this in the cell below. Keep the column in the dataframe in addition to making it an index."
   ]
  },
  {
   "cell_type": "code",
   "execution_count": 48,
   "metadata": {},
   "outputs": [
    {
     "name": "stdout",
     "output_type": "stream",
     "text": [
      "            Serial No.  GRE Score  TOEFL Score  University Rating  SOP  LOR   \\\n",
      "Serial No.                                                                     \n",
      "1                    1        337          118                  4  4.5   4.5   \n",
      "2                    2        316          104                  3  3.0   3.5   \n",
      "3                    3        322          110                  3  3.5   2.5   \n",
      "4                    4        314          103                  2  2.0   3.0   \n",
      "5                    5        330          115                  5  4.5   3.0   \n",
      "\n",
      "            CGPA  Research  Chance of Admit   \n",
      "Serial No.                                    \n",
      "1           9.65         1              0.92  \n",
      "2           8.00         1              0.72  \n",
      "3           8.67         1              0.80  \n",
      "4           8.21         0              0.65  \n",
      "5           9.34         1              0.90  \n"
     ]
    }
   ],
   "source": [
    "# to set 'Serial No.' as the index i am using the set_index function, but keep it as a column by using drop=False\n",
    "df_with_index = df_from_csv.set_index('Serial No.', drop=False)\n",
    "print(df_with_index.head())\n"
   ]
  },
  {
   "cell_type": "markdown",
   "metadata": {},
   "source": [
    "Turns out that `GRE Score` and `CGPA` also uniquely identify the data. Show this in the cell below."
   ]
  },
  {
   "cell_type": "markdown",
   "metadata": {},
   "source": [
    "### 3 - In this part of the lab, we would like to test complex conditions on the entire data set at once. Let's start by finding the number of rows where the CGPA is greater than 9 and the student has performed an investigation."
   ]
  },
  {
   "cell_type": "code",
   "execution_count": 53,
   "metadata": {
    "scrolled": true
   },
   "outputs": [
    {
     "name": "stdout",
     "output_type": "stream",
     "text": [
      "101\n"
     ]
    }
   ],
   "source": [
    "# i need to check if studnet CGPA is higher than 9, then check if they have perormed an investigation using the count in the research count and then count the rows. This is an attribute of a dataframe that returns a tuple containing the dimensions of the dataframe (rows, columns).\n",
    "#.shape[0]: This accesses the first element of the shape tuple, which represents the number of rows.\n",
    "conditions_check = (df_from_csv['CGPA'] > 9) & (df_from_csv['Research'] == 1)\n",
    "result = df_from_csv[conditions_check].shape[0]\n",
    "print(result)"
   ]
  },
  {
   "cell_type": "markdown",
   "metadata": {},
   "source": [
    "### 4 - Now return all the rows where the CGPA is greater than 9 and the SOP score is less than 3.5. Find the mean chance of admit for these applicants."
   ]
  },
  {
   "cell_type": "code",
   "execution_count": 10,
   "metadata": {},
   "outputs": [
    {
     "name": "stdout",
     "output_type": "stream",
     "text": [
      "5\n"
     ]
    }
   ],
   "source": [
    "df_from_csv = pd.read_csv('../Admission_Predict.csv')\n",
    "conditions_check2 = (df_from_csv['CGPA'] > 9) & (df_from_csv['SOP']<3.5)\n",
    "result = df_from_csv[conditions_check2].shape[0]\n",
    "print(result)\n",
    "#shape[o] is used for counting rows reminder. "
   ]
  }
 ],
 "metadata": {
  "kernelspec": {
   "display_name": "Python 3 (ipykernel)",
   "language": "python",
   "name": "python3"
  },
  "language_info": {
   "codemirror_mode": {
    "name": "ipython",
    "version": 3
   },
   "file_extension": ".py",
   "mimetype": "text/x-python",
   "name": "python",
   "nbconvert_exporter": "python",
   "pygments_lexer": "ipython3",
   "version": "3.12.5"
  },
  "toc": {
   "base_numbering": "",
   "nav_menu": {},
   "number_sections": false,
   "sideBar": true,
   "skip_h1_title": false,
   "title_cell": "Table of Contents",
   "title_sidebar": "Contents",
   "toc_cell": false,
   "toc_position": {},
   "toc_section_display": true,
   "toc_window_display": true
  }
 },
 "nbformat": 4,
 "nbformat_minor": 2
}
